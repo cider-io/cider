{
 "cells": [
  {
   "cell_type": "code",
   "execution_count": 92,
   "id": "044498bd",
   "metadata": {},
   "outputs": [
    {
     "name": "stdout",
     "output_type": "stream",
     "text": [
      "100 2.2892933082580567\n",
      "200 2.2590131843090058\n",
      "300 2.245024733543396\n",
      "400 2.21520581305027\n",
      "500 2.2010088095664977\n",
      "600 2.2078145611286164\n",
      "700 2.224548670904977\n",
      "800 2.221131690442562\n",
      "900 2.225392626656426\n"
     ]
    }
   ],
   "source": [
    "import boto3\n",
    "import json\n",
    "import base64\n",
    "import time\n",
    "import random\n",
    "import sys\n",
    "\n",
    "DATA_SIZE = 320000\n",
    "ITERATIONS = 1000\n",
    "\n",
    "response_times = []\n",
    "\n",
    "# open boto3 lambda client (requires ~/.aws/config and ~/.aws/credentials to be setup)\n",
    "client = boto3.client('lambda')\n",
    "\n",
    "for iteration in range(ITERATIONS):\n",
    "    if iteration > 0 and iteration % 100 == 0:\n",
    "        print(iteration, sum(response_times)/len(response_times))\n",
    "    random_floats = [random.uniform(-10, 80) for _ in range(DATA_SIZE)]\n",
    "    request_payload = {\n",
    "        \"function\": \"sum\",\n",
    "        \"data\": random_floats\n",
    "    }\n",
    "    request_payload_bytes = bytes(json.dumps(request_payload), encoding='utf-8')\n",
    "\n",
    "    start_time = time.time()\n",
    "    response = client.invoke(\n",
    "        FunctionName='Cider_Compute',\n",
    "        InvocationType='RequestResponse', # synchronous invocation (wait for a response)\n",
    "        Payload=request_payload_bytes,\n",
    "        Qualifier='1' # Cider_Compute published version 1\n",
    "    ) \n",
    "\n",
    "    if response['StatusCode'] == 200:\n",
    "        response_bytes = response['Payload'].read()\n",
    "        response_times.append(time.time() - start_time)\n",
    "    else:\n",
    "        print(\"ERROR:\", response['StatusCode'], response['FunctionError'])"
   ]
  },
  {
   "cell_type": "code",
   "execution_count": 95,
   "id": "bd891bcd",
   "metadata": {},
   "outputs": [
    {
     "data": {
      "text/plain": [
       "2.092103600502014"
      ]
     },
     "execution_count": 95,
     "metadata": {},
     "output_type": "execute_result"
    }
   ],
   "source": [
    "import statistics\n",
    "\n",
    "statistics.median(response_times)"
   ]
  },
  {
   "cell_type": "code",
   "execution_count": null,
   "id": "8b9ded2e",
   "metadata": {},
   "outputs": [],
   "source": []
  }
 ],
 "metadata": {
  "kernelspec": {
   "display_name": "Python 3",
   "language": "python",
   "name": "python3"
  },
  "language_info": {
   "codemirror_mode": {
    "name": "ipython",
    "version": 3
   },
   "file_extension": ".py",
   "mimetype": "text/x-python",
   "name": "python",
   "nbconvert_exporter": "python",
   "pygments_lexer": "ipython3",
   "version": "3.9.1"
  }
 },
 "nbformat": 4,
 "nbformat_minor": 5
}
